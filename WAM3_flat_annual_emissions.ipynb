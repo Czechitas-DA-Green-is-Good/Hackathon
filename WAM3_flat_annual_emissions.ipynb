{
 "cells": [
  {
   "cell_type": "code",
   "execution_count": 11,
   "metadata": {},
   "outputs": [
    {
     "data": {
      "text/html": [
       "<div>\n",
       "<style scoped>\n",
       "    .dataframe tbody tr th:only-of-type {\n",
       "        vertical-align: middle;\n",
       "    }\n",
       "\n",
       "    .dataframe tbody tr th {\n",
       "        vertical-align: top;\n",
       "    }\n",
       "\n",
       "    .dataframe thead th {\n",
       "        text-align: right;\n",
       "    }\n",
       "</style>\n",
       "<table border=\"1\" class=\"dataframe\">\n",
       "  <thead>\n",
       "    <tr style=\"text-align: right;\">\n",
       "      <th></th>\n",
       "      <th>2014</th>\n",
       "      <th>2015</th>\n",
       "      <th>2016</th>\n",
       "      <th>2017</th>\n",
       "      <th>2018</th>\n",
       "      <th>2019</th>\n",
       "      <th>2020</th>\n",
       "      <th>2021</th>\n",
       "      <th>2022</th>\n",
       "      <th>2023</th>\n",
       "      <th>2024</th>\n",
       "      <th>2025</th>\n",
       "      <th>2026</th>\n",
       "      <th>2027</th>\n",
       "      <th>2028</th>\n",
       "      <th>2029</th>\n",
       "      <th>2030</th>\n",
       "    </tr>\n",
       "  </thead>\n",
       "  <tbody>\n",
       "    <tr>\n",
       "      <th>emissions_per_kwh</th>\n",
       "      <td>0.501099</td>\n",
       "      <td>0.499158</td>\n",
       "      <td>0.501063</td>\n",
       "      <td>0.504227</td>\n",
       "      <td>0.50432</td>\n",
       "      <td>0.497428</td>\n",
       "      <td>0.484564</td>\n",
       "      <td>0.473826</td>\n",
       "      <td>0.471351</td>\n",
       "      <td>0.462743</td>\n",
       "      <td>0.445586</td>\n",
       "      <td>0.420354</td>\n",
       "      <td>0.38773</td>\n",
       "      <td>0.348563</td>\n",
       "      <td>0.303808</td>\n",
       "      <td>0.254482</td>\n",
       "      <td>0.201608</td>\n",
       "    </tr>\n",
       "  </tbody>\n",
       "</table>\n",
       "</div>"
      ],
      "text/plain": [
       "                       2014      2015      2016      2017     2018      2019  \\\n",
       "emissions_per_kwh  0.501099  0.499158  0.501063  0.504227  0.50432  0.497428   \n",
       "\n",
       "                       2020      2021      2022      2023      2024      2025  \\\n",
       "emissions_per_kwh  0.484564  0.473826  0.471351  0.462743  0.445586  0.420354   \n",
       "\n",
       "                      2026      2027      2028      2029      2030  \n",
       "emissions_per_kwh  0.38773  0.348563  0.303808  0.254482  0.201608  "
      ]
     },
     "execution_count": 11,
     "metadata": {},
     "output_type": "execute_result"
    }
   ],
   "source": [
    "import pandas as pd\n",
    "import matplotlib.pyplot as plt\n",
    "\n",
    "df = pd.read_csv(\"WAM3 Annual Emmissions Development.csv\", index_col=0)\n",
    "\n",
    "df = df.rename(columns={\"Unnamed: 0\": \"rok\", \"0\": \"emissions_per_kwh\"})\n",
    "\n",
    "df = df.transpose()\n",
    "df"
   ]
  },
  {
   "cell_type": "code",
   "execution_count": 12,
   "metadata": {},
   "outputs": [],
   "source": [
    "gas = 1485\n",
    "electricity = 13441\n",
    "heat_pump = 4167\n",
    "coal_em_per_kg = 3.64\n",
    "gas_em_per_kg = 1.85"
   ]
  },
  {
   "cell_type": "code",
   "execution_count": 13,
   "metadata": {},
   "outputs": [
    {
     "data": {
      "text/plain": [
       "[1485, 13441, 4167, 3.64, 1.85]"
      ]
     },
     "execution_count": 13,
     "metadata": {},
     "output_type": "execute_result"
    }
   ],
   "source": [
    "emissions_per_source = [\n",
    "    gas,\n",
    "    electricity,\n",
    "    heat_pump,\n",
    "    coal_em_per_kg,\n",
    "    gas_em_per_kg,\n",
    "]\n",
    "emissions_per_source"
   ]
  },
  {
   "cell_type": "code",
   "execution_count": 14,
   "metadata": {},
   "outputs": [
    {
     "data": {
      "text/html": [
       "<div>\n",
       "<style scoped>\n",
       "    .dataframe tbody tr th:only-of-type {\n",
       "        vertical-align: middle;\n",
       "    }\n",
       "\n",
       "    .dataframe tbody tr th {\n",
       "        vertical-align: top;\n",
       "    }\n",
       "\n",
       "    .dataframe thead th {\n",
       "        text-align: right;\n",
       "    }\n",
       "</style>\n",
       "<table border=\"1\" class=\"dataframe\">\n",
       "  <thead>\n",
       "    <tr style=\"text-align: right;\">\n",
       "      <th></th>\n",
       "      <th>2014</th>\n",
       "      <th>2015</th>\n",
       "      <th>2016</th>\n",
       "      <th>2017</th>\n",
       "      <th>2018</th>\n",
       "      <th>2019</th>\n",
       "      <th>2020</th>\n",
       "      <th>2021</th>\n",
       "      <th>2022</th>\n",
       "      <th>2023</th>\n",
       "      <th>2024</th>\n",
       "      <th>2025</th>\n",
       "      <th>2026</th>\n",
       "      <th>2027</th>\n",
       "      <th>2028</th>\n",
       "      <th>2029</th>\n",
       "      <th>2030</th>\n",
       "    </tr>\n",
       "  </thead>\n",
       "  <tbody>\n",
       "    <tr>\n",
       "      <th>PL</th>\n",
       "      <td>2747.250000</td>\n",
       "      <td>2747.250000</td>\n",
       "      <td>2747.250000</td>\n",
       "      <td>2747.250000</td>\n",
       "      <td>2747.250000</td>\n",
       "      <td>2747.250000</td>\n",
       "      <td>2747.250000</td>\n",
       "      <td>2747.250000</td>\n",
       "      <td>2747.250000</td>\n",
       "      <td>2747.250000</td>\n",
       "      <td>2747.250000</td>\n",
       "      <td>2747.250000</td>\n",
       "      <td>2747.250000</td>\n",
       "      <td>2747.250000</td>\n",
       "      <td>2747.250000</td>\n",
       "      <td>2747.250000</td>\n",
       "      <td>2747.250000</td>\n",
       "    </tr>\n",
       "    <tr>\n",
       "      <th>TC</th>\n",
       "      <td>2088.078835</td>\n",
       "      <td>2079.991626</td>\n",
       "      <td>2087.927513</td>\n",
       "      <td>2101.114219</td>\n",
       "      <td>2101.500399</td>\n",
       "      <td>2072.781728</td>\n",
       "      <td>2019.177265</td>\n",
       "      <td>1974.434938</td>\n",
       "      <td>1964.120827</td>\n",
       "      <td>1928.249354</td>\n",
       "      <td>1856.754797</td>\n",
       "      <td>1751.613588</td>\n",
       "      <td>1615.672580</td>\n",
       "      <td>1452.460110</td>\n",
       "      <td>1265.967899</td>\n",
       "      <td>1060.427285</td>\n",
       "      <td>840.100492</td>\n",
       "    </tr>\n",
       "    <tr>\n",
       "      <th>EL</th>\n",
       "      <td>6735.269407</td>\n",
       "      <td>6709.183451</td>\n",
       "      <td>6734.781305</td>\n",
       "      <td>6777.316108</td>\n",
       "      <td>6778.561762</td>\n",
       "      <td>6685.927335</td>\n",
       "      <td>6513.021746</td>\n",
       "      <td>6368.701706</td>\n",
       "      <td>6335.432693</td>\n",
       "      <td>6219.726319</td>\n",
       "      <td>5989.114767</td>\n",
       "      <td>5649.973178</td>\n",
       "      <td>5211.484318</td>\n",
       "      <td>4685.029121</td>\n",
       "      <td>4083.483209</td>\n",
       "      <td>3420.495112</td>\n",
       "      <td>2709.812986</td>\n",
       "    </tr>\n",
       "  </tbody>\n",
       "</table>\n",
       "</div>"
      ],
      "text/plain": [
       "           2014         2015         2016         2017         2018  \\\n",
       "PL  2747.250000  2747.250000  2747.250000  2747.250000  2747.250000   \n",
       "TC  2088.078835  2079.991626  2087.927513  2101.114219  2101.500399   \n",
       "EL  6735.269407  6709.183451  6734.781305  6777.316108  6778.561762   \n",
       "\n",
       "           2019         2020         2021         2022         2023  \\\n",
       "PL  2747.250000  2747.250000  2747.250000  2747.250000  2747.250000   \n",
       "TC  2072.781728  2019.177265  1974.434938  1964.120827  1928.249354   \n",
       "EL  6685.927335  6513.021746  6368.701706  6335.432693  6219.726319   \n",
       "\n",
       "           2024         2025         2026         2027         2028  \\\n",
       "PL  2747.250000  2747.250000  2747.250000  2747.250000  2747.250000   \n",
       "TC  1856.754797  1751.613588  1615.672580  1452.460110  1265.967899   \n",
       "EL  5989.114767  5649.973178  5211.484318  4685.029121  4083.483209   \n",
       "\n",
       "           2029         2030  \n",
       "PL  2747.250000  2747.250000  \n",
       "TC  1060.427285   840.100492  \n",
       "EL  3420.495112  2709.812986  "
      ]
     },
     "execution_count": 14,
     "metadata": {},
     "output_type": "execute_result"
    }
   ],
   "source": [
    "flat_80_sqm = pd.DataFrame(columns=df.columns)\n",
    "\n",
    "flat_80_sqm.loc[\"PL\"] = gas * gas_em_per_kg\n",
    "flat_80_sqm.loc[\"TC\"] = df.loc[\"emissions_per_kwh\"] * heat_pump\n",
    "flat_80_sqm.loc[\"EL\"] = df.loc[\"emissions_per_kwh\"] * electricity\n",
    "\n",
    "flat_80_sqm"
   ]
  },
  {
   "cell_type": "code",
   "execution_count": 15,
   "metadata": {},
   "outputs": [
    {
     "data": {
      "text/plain": [
       "Text(0, 0.5, 'Roční emise CO2 (kg)')"
      ]
     },
     "execution_count": 15,
     "metadata": {},
     "output_type": "execute_result"
    },
    {
     "data": {
      "image/png": "[encoded data removed]",
      "text/plain": [
       "<Figure size 640x480 with 1 Axes>"
      ]
     },
     "metadata": {},
     "output_type": "display_data"
    }
   ],
   "source": [
    "df_transposed = flat_80_sqm.transpose()\n",
    "\n",
    "colors_dict = {\n",
    "    \"UH\": \"#9D7660\",\n",
    "    \"PL\": \"#F1CE63\",\n",
    "    \"EL\": \"#e03531\",\n",
    "    \"TC\": \"#499894\",\n",
    "}\n",
    "\n",
    "colors = [colors_dict[column] for column in df_transposed.columns]\n",
    "\n",
    "df_transposed.plot(color=colors)\n",
    "plt.title(\"Emise dle způsobu vytápění (scénář WAM3)\")\n",
    "plt.ylabel(\"Roční emise CO2 (kg)\")"
   ]
  }
 ],
 "metadata": {
  "kernelspec": {
   "display_name": "Python 3",
   "language": "python",
   "name": "python3"
  },
  "language_info": {
   "codemirror_mode": {
    "name": "ipython",
    "version": 3
   },
   "file_extension": ".py",
   "mimetype": "text/x-python",
   "name": "python",
   "nbconvert_exporter": "python",
   "pygments_lexer": "ipython3",
   "version": "3.9.10"
  }
 },
 "nbformat": 4,
 "nbformat_minor": 2
}

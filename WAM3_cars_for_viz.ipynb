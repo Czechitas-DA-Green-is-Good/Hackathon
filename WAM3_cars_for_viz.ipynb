{
 "cells": [
  {
   "cell_type": "code",
   "execution_count": 1,
   "metadata": {},
   "outputs": [],
   "source": [
    "import pandas as pd\n",
    "\n",
    "df_10000 = pd.read_csv(\"WAM3_car_emissions_10000.csv\")\n",
    "df_15000 = pd.read_csv(\"WAM3_car_emissions_15000.csv\")\n",
    "df_20000 = pd.read_csv(\"WAM3_car_emissions_20000.csv\")"
   ]
  },
  {
   "cell_type": "code",
   "execution_count": 2,
   "metadata": {},
   "outputs": [],
   "source": [
    "df_10000[\"Roční_nájezd\"] = 10000\n",
    "df_15000[\"Roční_nájezd\"] = 15000\n",
    "df_20000[\"Roční_nájezd\"] = 20000"
   ]
  },
  {
   "cell_type": "code",
   "execution_count": 3,
   "metadata": {},
   "outputs": [],
   "source": [
    "df_combined = pd.concat([df_10000, df_15000, df_20000], ignore_index=True)"
   ]
  },
  {
   "cell_type": "code",
   "execution_count": 4,
   "metadata": {},
   "outputs": [],
   "source": [
    "df_combined[\"Model\"] = df_combined[\"Model\"].replace(\"Hyundai Kona*\", \"Hyundai Kona\")"
   ]
  },
  {
   "cell_type": "code",
   "execution_count": 7,
   "metadata": {},
   "outputs": [],
   "source": [
    "df_combined.to_csv(\"WAM3_prepared_data.csv\", index=False)"
   ]
  }
 ],
 "metadata": {
  "kernelspec": {
   "display_name": "Python 3",
   "language": "python",
   "name": "python3"
  },
  "language_info": {
   "codemirror_mode": {
    "name": "ipython",
    "version": 3
   },
   "file_extension": ".py",
   "mimetype": "text/x-python",
   "name": "python",
   "nbconvert_exporter": "python",
   "pygments_lexer": "ipython3",
   "version": "3.9.10"
  }
 },
 "nbformat": 4,
 "nbformat_minor": 2
}

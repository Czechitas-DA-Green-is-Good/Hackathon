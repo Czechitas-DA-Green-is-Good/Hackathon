{
 "cells": [
  {
   "cell_type": "code",
   "execution_count": 9,
   "metadata": {},
   "outputs": [
    {
     "data": {
      "text/html": [
       "<div>\n",
       "<style scoped>\n",
       "    .dataframe tbody tr th:only-of-type {\n",
       "        vertical-align: middle;\n",
       "    }\n",
       "\n",
       "    .dataframe tbody tr th {\n",
       "        vertical-align: top;\n",
       "    }\n",
       "\n",
       "    .dataframe thead th {\n",
       "        text-align: right;\n",
       "    }\n",
       "</style>\n",
       "<table border=\"1\" class=\"dataframe\">\n",
       "  <thead>\n",
       "    <tr style=\"text-align: right;\">\n",
       "      <th></th>\n",
       "      <th>2014</th>\n",
       "      <th>2015</th>\n",
       "      <th>2016</th>\n",
       "      <th>2017</th>\n",
       "      <th>2018</th>\n",
       "      <th>2019</th>\n",
       "      <th>2020</th>\n",
       "      <th>2021</th>\n",
       "      <th>2022</th>\n",
       "      <th>2023</th>\n",
       "      <th>2024</th>\n",
       "      <th>2025</th>\n",
       "      <th>2026</th>\n",
       "      <th>2027</th>\n",
       "      <th>2028</th>\n",
       "      <th>2029</th>\n",
       "      <th>2030</th>\n",
       "    </tr>\n",
       "  </thead>\n",
       "  <tbody>\n",
       "    <tr>\n",
       "      <th>emissions_per_kwh</th>\n",
       "      <td>0.501099</td>\n",
       "      <td>0.499158</td>\n",
       "      <td>0.501063</td>\n",
       "      <td>0.504227</td>\n",
       "      <td>0.50432</td>\n",
       "      <td>0.497428</td>\n",
       "      <td>0.484564</td>\n",
       "      <td>0.473826</td>\n",
       "      <td>0.471351</td>\n",
       "      <td>0.466487</td>\n",
       "      <td>0.457296</td>\n",
       "      <td>0.443911</td>\n",
       "      <td>0.426523</td>\n",
       "      <td>0.405379</td>\n",
       "      <td>0.380771</td>\n",
       "      <td>0.353027</td>\n",
       "      <td>0.322499</td>\n",
       "    </tr>\n",
       "  </tbody>\n",
       "</table>\n",
       "</div>"
      ],
      "text/plain": [
       "                       2014      2015      2016      2017     2018      2019  \\\n",
       "emissions_per_kwh  0.501099  0.499158  0.501063  0.504227  0.50432  0.497428   \n",
       "\n",
       "                       2020      2021      2022      2023      2024      2025  \\\n",
       "emissions_per_kwh  0.484564  0.473826  0.471351  0.466487  0.457296  0.443911   \n",
       "\n",
       "                       2026      2027      2028      2029      2030  \n",
       "emissions_per_kwh  0.426523  0.405379  0.380771  0.353027  0.322499  "
      ]
     },
     "execution_count": 9,
     "metadata": {},
     "output_type": "execute_result"
    }
   ],
   "source": [
    "import pandas as pd\n",
    "import matplotlib.pyplot as plt\n",
    "\n",
    "df = pd.read_csv(\"Annual Emmissions Development.csv\", index_col=0)\n",
    "\n",
    "df = df.rename(columns={\"Unnamed: 0\": \"rok\", \"0\": \"emissions_per_kwh\"})\n",
    "\n",
    "df = df.transpose()\n",
    "df"
   ]
  },
  {
   "cell_type": "code",
   "execution_count": 10,
   "metadata": {},
   "outputs": [],
   "source": [
    "black_coal = 2775\n",
    "gas = 1155\n",
    "electricity = 10454\n",
    "heat_pump = 324\n",
    "coal_em_per_kg = 3.64\n",
    "gas_em_per_kg = 1.85"
   ]
  },
  {
   "cell_type": "code",
   "execution_count": 11,
   "metadata": {},
   "outputs": [
    {
     "data": {
      "text/plain": [
       "[2775, 1155, 10454, 324, 3.64, 1.85]"
      ]
     },
     "execution_count": 11,
     "metadata": {},
     "output_type": "execute_result"
    }
   ],
   "source": [
    "emissions_per_source = [\n",
    "    black_coal,\n",
    "    gas,\n",
    "    electricity,\n",
    "    heat_pump,\n",
    "    coal_em_per_kg,\n",
    "    gas_em_per_kg,\n",
    "]\n",
    "emissions_per_source"
   ]
  },
  {
   "cell_type": "code",
   "execution_count": 12,
   "metadata": {},
   "outputs": [
    {
     "data": {
      "text/html": [
       "<div>\n",
       "<style scoped>\n",
       "    .dataframe tbody tr th:only-of-type {\n",
       "        vertical-align: middle;\n",
       "    }\n",
       "\n",
       "    .dataframe tbody tr th {\n",
       "        vertical-align: top;\n",
       "    }\n",
       "\n",
       "    .dataframe thead th {\n",
       "        text-align: right;\n",
       "    }\n",
       "</style>\n",
       "<table border=\"1\" class=\"dataframe\">\n",
       "  <thead>\n",
       "    <tr style=\"text-align: right;\">\n",
       "      <th></th>\n",
       "      <th>2014</th>\n",
       "      <th>2015</th>\n",
       "      <th>2016</th>\n",
       "      <th>2017</th>\n",
       "      <th>2018</th>\n",
       "      <th>2019</th>\n",
       "      <th>2020</th>\n",
       "      <th>2021</th>\n",
       "      <th>2022</th>\n",
       "      <th>2023</th>\n",
       "      <th>2024</th>\n",
       "      <th>2025</th>\n",
       "      <th>2026</th>\n",
       "      <th>2027</th>\n",
       "      <th>2028</th>\n",
       "      <th>2029</th>\n",
       "      <th>2030</th>\n",
       "    </tr>\n",
       "  </thead>\n",
       "  <tbody>\n",
       "    <tr>\n",
       "      <th>UH</th>\n",
       "      <td>10101.000000</td>\n",
       "      <td>10101.000000</td>\n",
       "      <td>10101.000000</td>\n",
       "      <td>10101.000000</td>\n",
       "      <td>10101.000000</td>\n",
       "      <td>10101.000000</td>\n",
       "      <td>10101.000000</td>\n",
       "      <td>10101.000000</td>\n",
       "      <td>10101.000000</td>\n",
       "      <td>10101.000000</td>\n",
       "      <td>10101.000000</td>\n",
       "      <td>10101.000000</td>\n",
       "      <td>10101.000000</td>\n",
       "      <td>10101.000000</td>\n",
       "      <td>10101.000000</td>\n",
       "      <td>10101.000000</td>\n",
       "      <td>10101.000000</td>\n",
       "    </tr>\n",
       "    <tr>\n",
       "      <th>PL</th>\n",
       "      <td>2136.750000</td>\n",
       "      <td>2136.750000</td>\n",
       "      <td>2136.750000</td>\n",
       "      <td>2136.750000</td>\n",
       "      <td>2136.750000</td>\n",
       "      <td>2136.750000</td>\n",
       "      <td>2136.750000</td>\n",
       "      <td>2136.750000</td>\n",
       "      <td>2136.750000</td>\n",
       "      <td>2136.750000</td>\n",
       "      <td>2136.750000</td>\n",
       "      <td>2136.750000</td>\n",
       "      <td>2136.750000</td>\n",
       "      <td>2136.750000</td>\n",
       "      <td>2136.750000</td>\n",
       "      <td>2136.750000</td>\n",
       "      <td>2136.750000</td>\n",
       "    </tr>\n",
       "    <tr>\n",
       "      <th>TC</th>\n",
       "      <td>162.356022</td>\n",
       "      <td>161.727211</td>\n",
       "      <td>162.344256</td>\n",
       "      <td>163.369572</td>\n",
       "      <td>163.399599</td>\n",
       "      <td>161.166614</td>\n",
       "      <td>156.998664</td>\n",
       "      <td>153.519779</td>\n",
       "      <td>152.717818</td>\n",
       "      <td>151.141729</td>\n",
       "      <td>148.164002</td>\n",
       "      <td>143.827124</td>\n",
       "      <td>138.193413</td>\n",
       "      <td>131.342749</td>\n",
       "      <td>123.369759</td>\n",
       "      <td>114.380639</td>\n",
       "      <td>104.489801</td>\n",
       "    </tr>\n",
       "    <tr>\n",
       "      <th>EL</th>\n",
       "      <td>5238.487195</td>\n",
       "      <td>5218.198333</td>\n",
       "      <td>5238.107564</td>\n",
       "      <td>5271.189837</td>\n",
       "      <td>5272.158669</td>\n",
       "      <td>5200.110435</td>\n",
       "      <td>5065.629740</td>\n",
       "      <td>4953.382013</td>\n",
       "      <td>4927.506389</td>\n",
       "      <td>4876.653189</td>\n",
       "      <td>4780.575555</td>\n",
       "      <td>4640.644304</td>\n",
       "      <td>4458.870174</td>\n",
       "      <td>4237.830536</td>\n",
       "      <td>3980.578579</td>\n",
       "      <td>3690.540751</td>\n",
       "      <td>3371.408588</td>\n",
       "    </tr>\n",
       "  </tbody>\n",
       "</table>\n",
       "</div>"
      ],
      "text/plain": [
       "            2014          2015          2016          2017          2018  \\\n",
       "UH  10101.000000  10101.000000  10101.000000  10101.000000  10101.000000   \n",
       "PL   2136.750000   2136.750000   2136.750000   2136.750000   2136.750000   \n",
       "TC    162.356022    161.727211    162.344256    163.369572    163.399599   \n",
       "EL   5238.487195   5218.198333   5238.107564   5271.189837   5272.158669   \n",
       "\n",
       "            2019          2020          2021          2022          2023  \\\n",
       "UH  10101.000000  10101.000000  10101.000000  10101.000000  10101.000000   \n",
       "PL   2136.750000   2136.750000   2136.750000   2136.750000   2136.750000   \n",
       "TC    161.166614    156.998664    153.519779    152.717818    151.141729   \n",
       "EL   5200.110435   5065.629740   4953.382013   4927.506389   4876.653189   \n",
       "\n",
       "            2024          2025          2026          2027          2028  \\\n",
       "UH  10101.000000  10101.000000  10101.000000  10101.000000  10101.000000   \n",
       "PL   2136.750000   2136.750000   2136.750000   2136.750000   2136.750000   \n",
       "TC    148.164002    143.827124    138.193413    131.342749    123.369759   \n",
       "EL   4780.575555   4640.644304   4458.870174   4237.830536   3980.578579   \n",
       "\n",
       "            2029          2030  \n",
       "UH  10101.000000  10101.000000  \n",
       "PL   2136.750000   2136.750000  \n",
       "TC    114.380639    104.489801  \n",
       "EL   3690.540751   3371.408588  "
      ]
     },
     "execution_count": 12,
     "metadata": {},
     "output_type": "execute_result"
    }
   ],
   "source": [
    "flat_80_sqm = pd.DataFrame(columns=df.columns)\n",
    "\n",
    "flat_80_sqm.loc[\"UH\"] = black_coal * coal_em_per_kg\n",
    "flat_80_sqm.loc[\"PL\"] = gas * gas_em_per_kg\n",
    "flat_80_sqm.loc[\"TC\"] = df.loc[\"emissions_per_kwh\"] * heat_pump\n",
    "flat_80_sqm.loc[\"EL\"] = df.loc[\"emissions_per_kwh\"] * electricity\n",
    "\n",
    "flat_80_sqm"
   ]
  },
  {
   "cell_type": "code",
   "execution_count": 13,
   "metadata": {},
   "outputs": [
    {
     "data": {
      "text/plain": [
       "<AxesSubplot: >"
      ]
     },
     "execution_count": 13,
     "metadata": {},
     "output_type": "execute_result"
    },
    {
     "data": {
      "image/png": "[encoded data removed]",
      "text/plain": [
       "<Figure size 640x480 with 1 Axes>"
      ]
     },
     "metadata": {},
     "output_type": "display_data"
    }
   ],
   "source": [
    "flat_80_sqm.transpose().plot()"
   ]
  }
 ],
 "metadata": {
  "kernelspec": {
   "display_name": "Python 3",
   "language": "python",
   "name": "python3"
  },
  "language_info": {
   "codemirror_mode": {
    "name": "ipython",
    "version": 3
   },
   "file_extension": ".py",
   "mimetype": "text/x-python",
   "name": "python",
   "nbconvert_exporter": "python",
   "pygments_lexer": "ipython3",
   "version": "3.9.10"
  }
 },
 "nbformat": 4,
 "nbformat_minor": 2
}

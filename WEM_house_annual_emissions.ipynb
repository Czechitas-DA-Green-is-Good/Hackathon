{
 "cells": [
  {
   "cell_type": "code",
   "execution_count": 1,
   "metadata": {},
   "outputs": [
    {
     "data": {
      "text/html": [
       "<div>\n",
       "<style scoped>\n",
       "    .dataframe tbody tr th:only-of-type {\n",
       "        vertical-align: middle;\n",
       "    }\n",
       "\n",
       "    .dataframe tbody tr th {\n",
       "        vertical-align: top;\n",
       "    }\n",
       "\n",
       "    .dataframe thead th {\n",
       "        text-align: right;\n",
       "    }\n",
       "</style>\n",
       "<table border=\"1\" class=\"dataframe\">\n",
       "  <thead>\n",
       "    <tr style=\"text-align: right;\">\n",
       "      <th></th>\n",
       "      <th>2014</th>\n",
       "      <th>2015</th>\n",
       "      <th>2016</th>\n",
       "      <th>2017</th>\n",
       "      <th>2018</th>\n",
       "      <th>2019</th>\n",
       "      <th>2020</th>\n",
       "      <th>2021</th>\n",
       "      <th>2022</th>\n",
       "      <th>2023</th>\n",
       "      <th>2024</th>\n",
       "      <th>2025</th>\n",
       "      <th>2026</th>\n",
       "      <th>2027</th>\n",
       "      <th>2028</th>\n",
       "      <th>2029</th>\n",
       "      <th>2030</th>\n",
       "    </tr>\n",
       "  </thead>\n",
       "  <tbody>\n",
       "    <tr>\n",
       "      <th>emissions_per_kwh</th>\n",
       "      <td>0.501099</td>\n",
       "      <td>0.499158</td>\n",
       "      <td>0.501063</td>\n",
       "      <td>0.504227</td>\n",
       "      <td>0.50432</td>\n",
       "      <td>0.497428</td>\n",
       "      <td>0.484564</td>\n",
       "      <td>0.473826</td>\n",
       "      <td>0.471351</td>\n",
       "      <td>0.466487</td>\n",
       "      <td>0.457296</td>\n",
       "      <td>0.443911</td>\n",
       "      <td>0.426523</td>\n",
       "      <td>0.405379</td>\n",
       "      <td>0.380771</td>\n",
       "      <td>0.353027</td>\n",
       "      <td>0.322499</td>\n",
       "    </tr>\n",
       "  </tbody>\n",
       "</table>\n",
       "</div>"
      ],
      "text/plain": [
       "                       2014      2015      2016      2017     2018      2019  \\\n",
       "emissions_per_kwh  0.501099  0.499158  0.501063  0.504227  0.50432  0.497428   \n",
       "\n",
       "                       2020      2021      2022      2023      2024      2025  \\\n",
       "emissions_per_kwh  0.484564  0.473826  0.471351  0.466487  0.457296  0.443911   \n",
       "\n",
       "                       2026      2027      2028      2029      2030  \n",
       "emissions_per_kwh  0.426523  0.405379  0.380771  0.353027  0.322499  "
      ]
     },
     "execution_count": 1,
     "metadata": {},
     "output_type": "execute_result"
    }
   ],
   "source": [
    "import pandas as pd\n",
    "import matplotlib.pyplot as plt\n",
    "\n",
    "\n",
    "df = pd.read_csv(\"Annual Emmissions Development.csv\", index_col=0)\n",
    "\n",
    "df = df.rename(columns={\"Unnamed: 0\": \"rok\", \"0\": \"emissions_per_kwh\"})\n",
    "\n",
    "df = df.transpose()\n",
    "df"
   ]
  },
  {
   "cell_type": "code",
   "execution_count": 2,
   "metadata": {},
   "outputs": [],
   "source": [
    "black_coal = 5667\n",
    "gas = 2376\n",
    "electricity = 20408\n",
    "heat_pump = 667\n",
    "coal_em_per_kg = 3.64\n",
    "gas_em_per_kg = 1.85"
   ]
  },
  {
   "cell_type": "code",
   "execution_count": 3,
   "metadata": {},
   "outputs": [
    {
     "data": {
      "text/plain": [
       "[5667, 2376, 20408, 667, 3.64, 1.85]"
      ]
     },
     "execution_count": 3,
     "metadata": {},
     "output_type": "execute_result"
    }
   ],
   "source": [
    "emissions_per_source = [\n",
    "    black_coal,\n",
    "    gas,\n",
    "    electricity,\n",
    "    heat_pump,\n",
    "    coal_em_per_kg,\n",
    "    gas_em_per_kg,\n",
    "]\n",
    "emissions_per_source"
   ]
  },
  {
   "cell_type": "code",
   "execution_count": 4,
   "metadata": {},
   "outputs": [
    {
     "data": {
      "text/html": [
       "<div>\n",
       "<style scoped>\n",
       "    .dataframe tbody tr th:only-of-type {\n",
       "        vertical-align: middle;\n",
       "    }\n",
       "\n",
       "    .dataframe tbody tr th {\n",
       "        vertical-align: top;\n",
       "    }\n",
       "\n",
       "    .dataframe thead th {\n",
       "        text-align: right;\n",
       "    }\n",
       "</style>\n",
       "<table border=\"1\" class=\"dataframe\">\n",
       "  <thead>\n",
       "    <tr style=\"text-align: right;\">\n",
       "      <th></th>\n",
       "      <th>2014</th>\n",
       "      <th>2015</th>\n",
       "      <th>2016</th>\n",
       "      <th>2017</th>\n",
       "      <th>2018</th>\n",
       "      <th>2019</th>\n",
       "      <th>2020</th>\n",
       "      <th>2021</th>\n",
       "      <th>2022</th>\n",
       "      <th>2023</th>\n",
       "      <th>2024</th>\n",
       "      <th>2025</th>\n",
       "      <th>2026</th>\n",
       "      <th>2027</th>\n",
       "      <th>2028</th>\n",
       "      <th>2029</th>\n",
       "      <th>2030</th>\n",
       "    </tr>\n",
       "  </thead>\n",
       "  <tbody>\n",
       "    <tr>\n",
       "      <th>UH</th>\n",
       "      <td>20627.880000</td>\n",
       "      <td>20627.880000</td>\n",
       "      <td>20627.880000</td>\n",
       "      <td>20627.880000</td>\n",
       "      <td>20627.880000</td>\n",
       "      <td>20627.880000</td>\n",
       "      <td>20627.880000</td>\n",
       "      <td>20627.880000</td>\n",
       "      <td>20627.880000</td>\n",
       "      <td>20627.880000</td>\n",
       "      <td>20627.880000</td>\n",
       "      <td>20627.880000</td>\n",
       "      <td>20627.880000</td>\n",
       "      <td>20627.880000</td>\n",
       "      <td>20627.880000</td>\n",
       "      <td>20627.880000</td>\n",
       "      <td>20627.880000</td>\n",
       "    </tr>\n",
       "    <tr>\n",
       "      <th>PL</th>\n",
       "      <td>4395.600000</td>\n",
       "      <td>4395.600000</td>\n",
       "      <td>4395.600000</td>\n",
       "      <td>4395.600000</td>\n",
       "      <td>4395.600000</td>\n",
       "      <td>4395.600000</td>\n",
       "      <td>4395.600000</td>\n",
       "      <td>4395.600000</td>\n",
       "      <td>4395.600000</td>\n",
       "      <td>4395.600000</td>\n",
       "      <td>4395.600000</td>\n",
       "      <td>4395.600000</td>\n",
       "      <td>4395.600000</td>\n",
       "      <td>4395.600000</td>\n",
       "      <td>4395.600000</td>\n",
       "      <td>4395.600000</td>\n",
       "      <td>4395.600000</td>\n",
       "    </tr>\n",
       "    <tr>\n",
       "      <th>TC</th>\n",
       "      <td>334.232921</td>\n",
       "      <td>332.938424</td>\n",
       "      <td>334.208700</td>\n",
       "      <td>336.319459</td>\n",
       "      <td>336.381273</td>\n",
       "      <td>331.784356</td>\n",
       "      <td>323.204040</td>\n",
       "      <td>316.042262</td>\n",
       "      <td>314.391311</td>\n",
       "      <td>311.146707</td>\n",
       "      <td>305.016634</td>\n",
       "      <td>296.088555</td>\n",
       "      <td>284.490760</td>\n",
       "      <td>270.387695</td>\n",
       "      <td>253.974164</td>\n",
       "      <td>235.468785</td>\n",
       "      <td>215.107091</td>\n",
       "    </tr>\n",
       "    <tr>\n",
       "      <th>EL</th>\n",
       "      <td>10226.424973</td>\n",
       "      <td>10186.817637</td>\n",
       "      <td>10225.683869</td>\n",
       "      <td>10290.266136</td>\n",
       "      <td>10292.157462</td>\n",
       "      <td>10151.506961</td>\n",
       "      <td>9888.977591</td>\n",
       "      <td>9669.850786</td>\n",
       "      <td>9619.337133</td>\n",
       "      <td>9520.062969</td>\n",
       "      <td>9332.502958</td>\n",
       "      <td>9059.333170</td>\n",
       "      <td>8704.478908</td>\n",
       "      <td>8272.971645</td>\n",
       "      <td>7770.771727</td>\n",
       "      <td>7204.568169</td>\n",
       "      <td>6581.567484</td>\n",
       "    </tr>\n",
       "  </tbody>\n",
       "</table>\n",
       "</div>"
      ],
      "text/plain": [
       "            2014          2015          2016          2017          2018  \\\n",
       "UH  20627.880000  20627.880000  20627.880000  20627.880000  20627.880000   \n",
       "PL   4395.600000   4395.600000   4395.600000   4395.600000   4395.600000   \n",
       "TC    334.232921    332.938424    334.208700    336.319459    336.381273   \n",
       "EL  10226.424973  10186.817637  10225.683869  10290.266136  10292.157462   \n",
       "\n",
       "            2019          2020          2021          2022          2023  \\\n",
       "UH  20627.880000  20627.880000  20627.880000  20627.880000  20627.880000   \n",
       "PL   4395.600000   4395.600000   4395.600000   4395.600000   4395.600000   \n",
       "TC    331.784356    323.204040    316.042262    314.391311    311.146707   \n",
       "EL  10151.506961   9888.977591   9669.850786   9619.337133   9520.062969   \n",
       "\n",
       "            2024          2025          2026          2027          2028  \\\n",
       "UH  20627.880000  20627.880000  20627.880000  20627.880000  20627.880000   \n",
       "PL   4395.600000   4395.600000   4395.600000   4395.600000   4395.600000   \n",
       "TC    305.016634    296.088555    284.490760    270.387695    253.974164   \n",
       "EL   9332.502958   9059.333170   8704.478908   8272.971645   7770.771727   \n",
       "\n",
       "            2029          2030  \n",
       "UH  20627.880000  20627.880000  \n",
       "PL   4395.600000   4395.600000  \n",
       "TC    235.468785    215.107091  \n",
       "EL   7204.568169   6581.567484  "
      ]
     },
     "execution_count": 4,
     "metadata": {},
     "output_type": "execute_result"
    }
   ],
   "source": [
    "house_150_sqm = pd.DataFrame(columns=df.columns)\n",
    "#\n",
    "# house_150_sqm.set_index(\"rok\")\n",
    "house_150_sqm.loc[\"UH\"] = black_coal * coal_em_per_kg\n",
    "house_150_sqm.loc[\"PL\"] = gas * gas_em_per_kg\n",
    "house_150_sqm.loc[\"TC\"] = df.loc[\"emissions_per_kwh\"] * heat_pump\n",
    "house_150_sqm.loc[\"EL\"] = df.loc[\"emissions_per_kwh\"] * electricity\n",
    "\n",
    "house_150_sqm"
   ]
  },
  {
   "cell_type": "code",
   "execution_count": 5,
   "metadata": {},
   "outputs": [
    {
     "data": {
      "text/plain": [
       "<AxesSubplot: >"
      ]
     },
     "execution_count": 5,
     "metadata": {},
     "output_type": "execute_result"
    },
    {
     "data": {
      "image/png": "[encoded data removed]",
      "text/plain": [
       "<Figure size 640x480 with 1 Axes>"
      ]
     },
     "metadata": {},
     "output_type": "display_data"
    }
   ],
   "source": [
    "house_150_sqm.transpose().plot()"
   ]
  }
 ],
 "metadata": {
  "kernelspec": {
   "display_name": "Python 3",
   "language": "python",
   "name": "python3"
  },
  "language_info": {
   "codemirror_mode": {
    "name": "ipython",
    "version": 3
   },
   "file_extension": ".py",
   "mimetype": "text/x-python",
   "name": "python",
   "nbconvert_exporter": "python",
   "pygments_lexer": "ipython3",
   "version": "3.9.10"
  }
 },
 "nbformat": 4,
 "nbformat_minor": 2
}
